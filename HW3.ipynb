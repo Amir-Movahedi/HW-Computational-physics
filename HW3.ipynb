{
 "cells": [
  {
   "cell_type": "markdown",
   "metadata": {},
   "source": [
    "\\begin{equation}\n",
    "\\begin{cases}\n",
    "& K_1 = f(x, t) dt \\\\\n",
    "& K_2 = f(x + \\frac{1}{2}K_1, t+\\frac{1}{2}dt) \\\\\n",
    "& K_3 = f(x + \\frac{1}{2}K_2, t+\\frac{1}{2}dt) \\\\\n",
    "& K_4 = f(x + K_3 , t + dt)\\\\\n",
    "\\end{cases}\n",
    "\\end{equation}\n",
    "\n",
    "\\begin{equation}\n",
    "x(t + dt) = x(t) + \\frac{1}{6} (K_1 + 2K_2 +2 K_3 + K_4)\n",
    "\\end{equation}\n",
    "\n",
    "More information :\n",
    "https://en.wikipedia.org/wiki/Runge%E2%80%93Kutta_methods"
   ]
  },
  {
   "cell_type": "code",
   "execution_count": 2,
   "metadata": {},
   "outputs": [],
   "source": [
    "def rk4(f, x, t, dt=0.001):\n",
    "    k1 = f(x, t) * dt\n",
    "    k2 = f(x + 0.5 * k1, t + 0.5 * dt)\n",
    "    k3 = f(x + 0.5 * k2, t + 0.5 * dt)\n",
    "    k4 = f(x + k3, t + dt)\n",
    "    return x + (k1 + 2 * k2 + 2 * k3 + k4) / 6\n"
   ]
  }
 ],
 "metadata": {
  "kernelspec": {
   "display_name": "base",
   "language": "python",
   "name": "python3"
  },
  "language_info": {
   "codemirror_mode": {
    "name": "ipython",
    "version": 3
   },
   "file_extension": ".py",
   "mimetype": "text/x-python",
   "name": "python",
   "nbconvert_exporter": "python",
   "pygments_lexer": "ipython3",
   "version": "3.11.5"
  }
 },
 "nbformat": 4,
 "nbformat_minor": 2
}
