{
 "cells": [
  {
   "cell_type": "code",
   "execution_count": 14,
   "metadata": {},
   "outputs": [
    {
     "data": {
      "text/plain": [
       "[0, 1, 1, 2, 3, 5, 8, 13, 21, 34, 55, 89, 144, 233, 377, 610, 987]"
      ]
     },
     "execution_count": 14,
     "metadata": {},
     "output_type": "execute_result"
    }
   ],
   "source": [
    "def Fibo(n):\n",
    "\tif n<= 0:\n",
    "\t\tprint(\"Incorrect input\")\n",
    "\telif n == 1:\n",
    "\t\treturn 0\n",
    "\telif n == 2:\n",
    "\t\treturn 1\n",
    "\telse:\n",
    "\t\treturn Fibo(n-1)+Fibo(n-2)\n",
    "\n",
    "\n",
    "def less(N, i=1):\n",
    "\tresult = []\n",
    "\twhile True:\n",
    "\t\tif Fibo(i) < N:\n",
    "\t\t\tresult.append(Fibo(i))\n",
    "\t\t\ti+=1\n",
    "\t\telse:\n",
    "\t\t\tbreak\n",
    "\treturn result\n",
    "\n",
    "less(1000)"
   ]
  },
  {
   "cell_type": "code",
   "execution_count": 2,
   "metadata": {},
   "outputs": [],
   "source": [
    "import math\n",
    "\n",
    "\n",
    "def cart_2_polar(x,y):\n",
    "    r = math.sqrt(x**2 + y**2)\n",
    "    theta = math.atan2(y/x)\n",
    "    return r, theta * 180/math.pi"
   ]
  }
 ],
 "metadata": {
  "kernelspec": {
   "display_name": "base",
   "language": "python",
   "name": "python3"
  },
  "language_info": {
   "codemirror_mode": {
    "name": "ipython",
    "version": 3
   },
   "file_extension": ".py",
   "mimetype": "text/x-python",
   "name": "python",
   "nbconvert_exporter": "python",
   "pygments_lexer": "ipython3",
   "version": "3.11.5"
  }
 },
 "nbformat": 4,
 "nbformat_minor": 2
}
